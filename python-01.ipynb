{
 "cells": [
  {
   "cell_type": "markdown",
   "metadata": {},
   "source": [
    "## First Steps with python\n",
    "### Variables, Operators, Conditions and Print"
   ]
  },
  {
   "cell_type": "markdown",
   "metadata": {},
   "source": [
    "### Exercise 1\n",
    "\n",
    "> **EXERCISE**: A travel company wants to fly a plane to the Bahamas. Flying the plane costs 5000 dollars. So far, 29 people have signed up for the trip. If the company charges 200 dollars per ticket, what is the profit made by the company? Create variables for each numeric quantity and use appropriate arithmetic operations."
   ]
  },
  {
   "cell_type": "code",
   "execution_count": 1,
   "metadata": {},
   "outputs": [],
   "source": [
    "Plane_cost = 5000\n",
    "no_of_passengers = 29\n",
    "ticket_cost = 200"
   ]
  },
  {
   "cell_type": "code",
   "execution_count": 2,
   "metadata": {},
   "outputs": [
    {
     "name": "stdout",
     "output_type": "stream",
     "text": [
      "800\n"
     ]
    }
   ],
   "source": [
    "profit = (no_of_passengers * ticket_cost) - Plane_cost\n",
    "print(profit)\n"
   ]
  },
  {
   "cell_type": "code",
   "execution_count": 3,
   "metadata": {},
   "outputs": [],
   "source": [
    "fruits = ['apple', 'banana', 'cherry']\n",
    "a_list = [23, 'hello', None, 3.14, fruits, 3 <= 5]"
   ]
  },
  {
   "cell_type": "code",
   "execution_count": 4,
   "metadata": {},
   "outputs": [
    {
     "data": {
      "text/plain": [
       "[None, 3.14, ['apple', 'banana', 'cherry'], True]"
      ]
     },
     "execution_count": 4,
     "metadata": {},
     "output_type": "execute_result"
    }
   ],
   "source": [
    "a_list[2:10]"
   ]
  },
  {
   "cell_type": "markdown",
   "metadata": {},
   "source": [
    "## Functions and scope\n",
    "## Exercise - Data Analysis for Vacation Planning\n",
    "\n",
    "You're planning a vacation, and you need to decide which city you want to visit. You have shortlisted four cities and identified the return flight cost, daily hotel cost, and weekly car rental cost. While renting a car, you need to pay for entire weeks, even if you return the car sooner.\n",
    "\n",
    "\n",
    "| City | Return Flight (`$`) | Hotel per day (`$`) | Weekly Car Rental  (`$`) | \n",
    "|------|--------------------------|------------------|------------------------|\n",
    "| Paris|       200                |       20         |          200           |\n",
    "| London|      250                |       30         |          120           |\n",
    "| Dubai|       370                |       15         |          80           |\n",
    "| Mumbai|      450                |       10         |          70           |         \n",
    "\n",
    "\n",
    "Answer the following questions using the data above:\n",
    "\n",
    "1. If you're planning a 1-week long trip, which city should you visit to spend the least amount of money?\n",
    "2. How does the answer to the previous question change if you change the trip's duration to four days, ten days or two weeks?\n",
    "3. If your total budget for the trip is `$1000`, which city should you visit to maximize the duration of your trip? Which city should you visit if you want to minimize the duration?\n",
    "4. How does the answer to the previous question change if your budget is `$600`, `$2000`, or `$1500`?\n",
    "\n",
    "*Hint: To answer these questions, it will help to define a function `cost_of_trip` with relevant inputs like flight cost, hotel rate, car rental rate, and duration of the trip. You may find the `math.ceil` function useful for calculating the total cost of car rental.*"
   ]
  },
  {
   "cell_type": "markdown",
   "metadata": {},
   "source": [
    "### Solution"
   ]
  },
  {
   "cell_type": "code",
   "execution_count": 5,
   "metadata": {},
   "outputs": [],
   "source": [
    "import math"
   ]
  },
  {
   "cell_type": "code",
   "execution_count": 6,
   "metadata": {},
   "outputs": [],
   "source": [
    "\n",
    "paris = [200, 20, 200, \"paris\"]\n",
    "london = [250, 30, 120, \"london\"]\n",
    "dubai = [370, 15, 80, \"dubai\"]\n",
    "mumbai = [450, 10, 70, \"mumbai\"]\n",
    "cities = [paris, london, dubai, mumbai]\n"
   ]
  },
  {
   "cell_type": "code",
   "execution_count": 7,
   "metadata": {},
   "outputs": [],
   "source": [
    "def cost_of_trip(flight_cost, hotel_rate, car_rental, num_days=0):\n",
    "    \"\"\"takes in given arguments and calculates the total cost of trip with default day Zero\"\"\"\n",
    "    return flight_cost + (hotel_rate*num_days) + car_rental * math.ceil(num_days/7)\n",
    "\n",
    "\n"
   ]
  },
  {
   "cell_type": "code",
   "execution_count": 8,
   "metadata": {},
   "outputs": [],
   "source": [
    "def days_to_visit(days):\n",
    "    \"\"\"Takes in number of days to vist argument, and recalls the cost of trip function passing prices of things into it for each city\"\"\"\n",
    "    costs = []\n",
    "    for city in cities:\n",
    "        cost = cost_of_trip(city[0], city[1], city[2], days)\n",
    "        costs.append((cost,city[3]))\n",
    "    min_cost = min(costs)\n",
    "    return min_cost"
   ]
  },
  {
   "cell_type": "markdown",
   "metadata": {},
   "source": [
    "Question 1:\n",
    "City with minimum cost if i were to visit for a week"
   ]
  },
  {
   "cell_type": "code",
   "execution_count": 9,
   "metadata": {},
   "outputs": [
    {
     "data": {
      "text/plain": [
       "(540, 'paris')"
      ]
     },
     "execution_count": 9,
     "metadata": {},
     "output_type": "execute_result"
    }
   ],
   "source": [
    "days_to_visit(7)"
   ]
  },
  {
   "cell_type": "markdown",
   "metadata": {},
   "source": [
    "Question 2: If  duration of trip was 4days, 10 days, two weeks?"
   ]
  },
  {
   "cell_type": "code",
   "execution_count": 10,
   "metadata": {},
   "outputs": [
    {
     "data": {
      "text/plain": [
       "(480, 'paris')"
      ]
     },
     "execution_count": 10,
     "metadata": {},
     "output_type": "execute_result"
    }
   ],
   "source": [
    "#4 days\n",
    "days_to_visit(4)"
   ]
  },
  {
   "cell_type": "code",
   "execution_count": 11,
   "metadata": {},
   "outputs": [
    {
     "data": {
      "text/plain": [
       "(680, 'dubai')"
      ]
     },
     "execution_count": 11,
     "metadata": {},
     "output_type": "execute_result"
    }
   ],
   "source": [
    "#10 days\n",
    "days_to_visit(10)"
   ]
  },
  {
   "cell_type": "code",
   "execution_count": 12,
   "metadata": {},
   "outputs": [
    {
     "data": {
      "text/plain": [
       "(730, 'mumbai')"
      ]
     },
     "execution_count": 12,
     "metadata": {},
     "output_type": "execute_result"
    }
   ],
   "source": [
    "#2 weeks\n",
    "days_to_visit(14)"
   ]
  },
  {
   "cell_type": "markdown",
   "metadata": {},
   "source": [
    "Question 3"
   ]
  },
  {
   "cell_type": "code",
   "execution_count": 13,
   "metadata": {},
   "outputs": [],
   "source": [
    "def given_budget(budget,less_days=False):\n",
    "    days=1\n",
    "    cost=0\n",
    "    while cost<budget:\n",
    "        #copy of city cost \n",
    "        cost_before=cost\n",
    "        try:\n",
    "            #copy of costs dictionary, if exists\n",
    "            costs_before=costs.copy()\n",
    "        except:\n",
    "            #if costs dictionary doesn't exist, create an empty dictionary\n",
    "            costs_before={}\n",
    "        costs={}\n",
    "        for city in cities:\n",
    "            cost = cost_of_trip(city[0],city[1],city[2],days)\n",
    "            costs[cost] = city[3]\n",
    "        if less_days:\n",
    "            cost=max(list(costs.keys()))\n",
    "            ''' The while loop breaks only after cost>600 condition is met.\n",
    "            when the condition is met, the costs dictionary updates to values that are greater than 600 \n",
    "            so we check if it is exceeding, if it does, we return the values from the previous dictionary cost_before. '''\n",
    "            if cost>=budget:\n",
    "                return costs_before[cost_before],days-1\n",
    "        else:   \n",
    "            cost=min(list(costs.keys()))\n",
    "            if cost>=budget:\n",
    "                return costs_before[cost_before],days-1\n",
    "        days+=1"
   ]
  },
  {
   "cell_type": "code",
   "execution_count": 14,
   "metadata": {},
   "outputs": [
    {
     "name": "stdout",
     "output_type": "stream",
     "text": [
      "('paris', 7)\n"
     ]
    }
   ],
   "source": [
    "city_to_stay_maximum_days=given_budget(600)\n",
    "print(city_to_stay_maximum_days)"
   ]
  },
  {
   "cell_type": "code",
   "execution_count": 15,
   "metadata": {},
   "outputs": [
    {
     "name": "stdout",
     "output_type": "stream",
     "text": [
      "('mumbai', 7)\n"
     ]
    }
   ],
   "source": [
    "city_to_stay_minimum_days = given_budget(600, less_days=True)\n",
    "print(city_to_stay_minimum_days)"
   ]
  },
  {
   "cell_type": "code",
   "execution_count": null,
   "metadata": {},
   "outputs": [],
   "source": []
  }
 ],
 "metadata": {
  "kernelspec": {
   "display_name": "env-01",
   "language": "python",
   "name": "python3"
  },
  "language_info": {
   "codemirror_mode": {
    "name": "ipython",
    "version": 3
   },
   "file_extension": ".py",
   "mimetype": "text/x-python",
   "name": "python",
   "nbconvert_exporter": "python",
   "pygments_lexer": "ipython3",
   "version": "3.9.21"
  }
 },
 "nbformat": 4,
 "nbformat_minor": 2
}
